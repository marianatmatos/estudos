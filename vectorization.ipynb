{
  "nbformat": 4,
  "nbformat_minor": 0,
  "metadata": {
    "colab": {
      "name": "vectorization.ipynb",
      "provenance": [],
      "authorship_tag": "ABX9TyMzEHXzF7utLGy52aqtZAs6",
      "include_colab_link": true
    },
    "kernelspec": {
      "name": "python3",
      "display_name": "Python 3"
    },
    "language_info": {
      "name": "python"
    }
  },
  "cells": [
    {
      "cell_type": "markdown",
      "metadata": {
        "id": "view-in-github",
        "colab_type": "text"
      },
      "source": [
        "<a href=\"https://colab.research.google.com/github/marianatmatos/estudos/blob/main/vectorization.ipynb\" target=\"_parent\"><img src=\"https://colab.research.google.com/assets/colab-badge.svg\" alt=\"Open In Colab\"/></a>"
      ]
    },
    {
      "cell_type": "markdown",
      "metadata": {
        "id": "Yc57VmX9uEXJ"
      },
      "source": [
        "## Proves that is better to use vectorization when implementing deep leaning models"
      ]
    },
    {
      "cell_type": "code",
      "metadata": {
        "id": "UlFBULegok1c"
      },
      "source": [
        "import numpy as np\n",
        "import time # see how long different operations take\n"
      ],
      "execution_count": 1,
      "outputs": []
    },
    {
      "cell_type": "code",
      "metadata": {
        "colab": {
          "base_uri": "https://localhost:8080/"
        },
        "id": "OTDZd7Yvo6_7",
        "outputId": "e37d9a48-ff29-4dff-9c74-56f65fe70700"
      },
      "source": [
        "# Compare how long each operation take\n",
        "a = np.random.rand(1000000) # Create million dimensional array\n",
        "b = np.random.rand(1000000)\n",
        "\n",
        "tic = time.time() # start counting time\n",
        "c = np.dot(a,b)\n",
        "toc = time.time() # stops counting time\n",
        "print('c:', c)\n",
        "print('Vectorized version: ' + str(1000*(toc-tic)) +'ms' )\n",
        "\n",
        "c = 0\n",
        "tic = time.time()\n",
        "for i in range(1000000):\n",
        "  c += a[i] * b[i]\n",
        "toc = time.time()\n",
        "print('c:', c)\n",
        "print('For loop: ' + str(1000*(toc-tic))+'ms')"
      ],
      "execution_count": 10,
      "outputs": [
        {
          "output_type": "stream",
          "text": [
            "c: 250060.14604832412\n",
            "Vectorized version: 3.819704055786133ms\n",
            "c: 250060.14604832628\n",
            "For loop: 709.3720436096191ms\n"
          ],
          "name": "stdout"
        }
      ]
    },
    {
      "cell_type": "markdown",
      "metadata": {
        "id": "VljyoljNsDF1"
      },
      "source": [
        "###Conclusion\n",
        "\n",
        "Remember to vectorize your code!             \n",
        "In the exemple we can see that the vectorized code run about 300x faster when copared to the loop code\n",
        "\n",
        "When ever possible avoid using explicit for loops, vectorization can significantly speed up your code"
      ]
    }
  ]
}