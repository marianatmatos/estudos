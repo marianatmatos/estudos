{
  "nbformat": 4,
  "nbformat_minor": 0,
  "metadata": {
    "colab": {
      "name": "Exibindo porcentagem dentro de bar charts - MatPlotLib.ipynb",
      "provenance": [],
      "authorship_tag": "ABX9TyNnyhms4eFgF7IMv4hJkuQT",
      "include_colab_link": true
    },
    "kernelspec": {
      "name": "python3",
      "display_name": "Python 3"
    },
    "language_info": {
      "name": "python"
    }
  },
  "cells": [
    {
      "cell_type": "markdown",
      "metadata": {
        "id": "view-in-github",
        "colab_type": "text"
      },
      "source": [
        "<a href=\"https://colab.research.google.com/github/marianatmatos/estudos/blob/main/Exibindo_porcentagem_dentro_de_bar_charts_MatPlotLib.ipynb\" target=\"_parent\"><img src=\"https://colab.research.google.com/assets/colab-badge.svg\" alt=\"Open In Colab\"/></a>"
      ]
    },
    {
      "cell_type": "code",
      "metadata": {
        "id": "8ondXvW31Daw"
      },
      "source": [
        "# Libs\n",
        "import pandas as pd\n",
        "import numpy as np\n",
        "import matplotlib.pyplot as plt\n",
        "import matplotlib.ticker as mtick\n",
        "import time"
      ],
      "execution_count": null,
      "outputs": []
    },
    {
      "cell_type": "code",
      "metadata": {
        "id": "6fhfWSoyySD4"
      },
      "source": [
        "# Create dataframe\n",
        "df = pd.DataFrame(np.array([[1, 2, 3], [4, 5, 6], [7, 8, 9]]),\n",
        "                   columns=['a', 'b', 'c'])"
      ],
      "execution_count": null,
      "outputs": []
    },
    {
      "cell_type": "code",
      "metadata": {
        "colab": {
          "base_uri": "https://localhost:8080/",
          "height": 136
        },
        "id": "yNVBfrn31kqU",
        "outputId": "ea7fd542-a26d-46b0-c374-1632ec1035d6"
      },
      "source": [
        "# See dataframe\n",
        "df.head()"
      ],
      "execution_count": null,
      "outputs": [
        {
          "output_type": "execute_result",
          "data": {
            "text/html": [
              "<div>\n",
              "<style scoped>\n",
              "    .dataframe tbody tr th:only-of-type {\n",
              "        vertical-align: middle;\n",
              "    }\n",
              "\n",
              "    .dataframe tbody tr th {\n",
              "        vertical-align: top;\n",
              "    }\n",
              "\n",
              "    .dataframe thead th {\n",
              "        text-align: right;\n",
              "    }\n",
              "</style>\n",
              "<table border=\"1\" class=\"dataframe\">\n",
              "  <thead>\n",
              "    <tr style=\"text-align: right;\">\n",
              "      <th></th>\n",
              "      <th>a</th>\n",
              "      <th>b</th>\n",
              "      <th>c</th>\n",
              "    </tr>\n",
              "  </thead>\n",
              "  <tbody>\n",
              "    <tr>\n",
              "      <th>0</th>\n",
              "      <td>1</td>\n",
              "      <td>2</td>\n",
              "      <td>3</td>\n",
              "    </tr>\n",
              "    <tr>\n",
              "      <th>1</th>\n",
              "      <td>4</td>\n",
              "      <td>5</td>\n",
              "      <td>6</td>\n",
              "    </tr>\n",
              "    <tr>\n",
              "      <th>2</th>\n",
              "      <td>7</td>\n",
              "      <td>8</td>\n",
              "      <td>9</td>\n",
              "    </tr>\n",
              "  </tbody>\n",
              "</table>\n",
              "</div>"
            ],
            "text/plain": [
              "   a  b  c\n",
              "0  1  2  3\n",
              "1  4  5  6\n",
              "2  7  8  9"
            ]
          },
          "metadata": {
            "tags": []
          },
          "execution_count": 4
        }
      ]
    },
    {
      "cell_type": "markdown",
      "metadata": {
        "id": "hiVy9CEipGZ5"
      },
      "source": [
        "Em geral, usamos `ax.annotate()` para adicionar anotações aos gráficos.\n",
        "Este método pega o valor do texto da anotação, as coordenadas xy e coloca a anotação.\n",
        "\n",
        "Em um gráfico de barras, cada barra é representada por um `patch.Retangle` onde cada um desses retangulos tem os atributos `width`, `height` e as coordenadas `xy` que podem ser acessados pelos métodos `get_width`, `get_height` e `get_xy` respectivamente.\n",
        "\n",
        "Juntando tudo isso podemos criar um loop que passa por cada retangulo do nosso `ax` e definir a porcentagem para ser a altura do retangulo, com uma posição xy que está logo acima do centro do retangulo (`x + width/2, y + height*02`) - calculado a partir de sua altura, largura e xy.\n",
        "\n",
        "note: You can adjust the number thats multipling the height in this equation  to fit in your bar. `x + width/2, y + height*`**1.02**\n",
        "\n",
        "\n"
      ]
    },
    {
      "cell_type": "code",
      "metadata": {
        "colab": {
          "base_uri": "https://localhost:8080/",
          "height": 511
        },
        "id": "Kqd3A2x_r-1y",
        "outputId": "f74f57f8-85b3-4711-dbed-eaed4ed0bcbf"
      },
      "source": [
        "colors = ['#E8C9C1','#64BCD9','#C3E892']\n",
        "\n",
        "# Create ax objetct\n",
        "fig, ax = plt.subplots()\n",
        "df.plot(kind='bar', figsize=(12,8), width=0.8, color=colors, stacked = True, rot = 45, ax=ax)\n",
        "\n",
        "# Customize\n",
        "plt.title('Percentage of dataframe values', fontsize=22)\n",
        "plt.legend(labels=df.columns, fontsize=14)\n",
        "plt.xticks(fontsize=14)\n",
        "plt.yticks(rotation=0, horizontalalignment=\"right\")\n",
        "ax.yaxis.set_major_formatter(mtick.PercentFormatter())\n",
        "\n",
        "# loop to add the percentage\n",
        "for p in ax.patches:\n",
        "  width = p.get_width()\n",
        "  height = p.get_height()\n",
        "  x ,y = p.get_xy()\n",
        "  ax.annotate('{:.1f}%'.format(height), (x + width/2, y + height*0.2), ha='center')"
      ],
      "execution_count": null,
      "outputs": [
        {
          "output_type": "display_data",
          "data": {
            "image/png": "[encoded data removed]",
            "text/plain": [
              "<Figure size 864x576 with 1 Axes>"
            ]
          },
          "metadata": {
            "tags": [],
            "needs_background": "light"
          }
        }
      ]
    },
    {
      "cell_type": "markdown",
      "metadata": {
        "id": "HJRPDDmE6zBA"
      },
      "source": [
        "Referencias:\n",
        "\n",
        "* [MatplotLib Tics](https://www.tutorialspoint.com/matplotlib/matplotlib_setting_ticks_and_tick_labels.htm#:~:text=Ticks%20are%20the%20markers%20denoting,sufficient%20in%20many%20common%20situations.)\n",
        "\n",
        "\n",
        "* [patch.Retangle](https://matplotlib.org/stable/api/_as_gen/matplotlib.patches.Rectangle.html)"
      ]
    }
  ]
}