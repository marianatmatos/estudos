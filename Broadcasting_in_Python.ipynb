{
  "nbformat": 4,
  "nbformat_minor": 0,
  "metadata": {
    "colab": {
      "name": "Broadcasting in Python.ipynb",
      "provenance": [],
      "authorship_tag": "ABX9TyOQf+Rkxsff41dTO327067l",
      "include_colab_link": true
    },
    "kernelspec": {
      "name": "python3",
      "display_name": "Python 3"
    },
    "language_info": {
      "name": "python"
    }
  },
  "cells": [
    {
      "cell_type": "markdown",
      "metadata": {
        "id": "view-in-github",
        "colab_type": "text"
      },
      "source": [
        "<a href=\"https://colab.research.google.com/github/marianatmatos/estudos/blob/main/Broadcasting_in_Python.ipynb\" target=\"_parent\"><img src=\"https://colab.research.google.com/assets/colab-badge.svg\" alt=\"Open In Colab\"/></a>"
      ]
    },
    {
      "cell_type": "markdown",
      "metadata": {
        "id": "dj7tVXlV_2d9"
      },
      "source": [
        "The goal of this notebook is to understand and show examples of broadcasting with NumPy.\n",
        "\n",
        "<p align=\"center\">\n",
        "  <img  height=\"200\" src=\"https://i.pinimg.com/564x/5d/74/ab/5d74aba409999dc83476b4c0e596119f.jpg\" >\n",
        "</p>\n",
        "\n",
        "Broadcasting is the way NumPy treats arrays with different shapes for arithmetic operations. Basically, the smaller array is broadcasted across the larger array so that they have compatible shapes, how it shows in the figure above.\n",
        "\n",
        "We have the matrix (4,3) and we want to sum with the matrix (3,), the way NumPy deals with it is vectorizing array operations without making needless copies of data thus leads to efficient implementations. \n",
        "\n"
      ]
    },
    {
      "cell_type": "code",
      "metadata": {
        "id": "TOKdqnakAG1F"
      },
      "source": [
        "# Import necessary lib\n",
        "import numpy as np"
      ],
      "execution_count": 8,
      "outputs": []
    },
    {
      "cell_type": "markdown",
      "metadata": {
        "id": "msyOXDXyFbHd"
      },
      "source": [
        "Let's see some cases"
      ]
    },
    {
      "cell_type": "code",
      "metadata": {
        "colab": {
          "base_uri": "https://localhost:8080/"
        },
        "id": "6ksI1TP35W1C",
        "outputId": "0500cc14-26d3-4faf-91f3-d38c36274597"
      },
      "source": [
        "# Case 1: Multiplying arrays with the same shape\n",
        "a = np.array([1,2,3,4])\n",
        "b = np.array([2,2,2,2])\n",
        "a * b"
      ],
      "execution_count": 15,
      "outputs": [
        {
          "output_type": "execute_result",
          "data": {
            "text/plain": [
              "array([2, 4, 6, 8])"
            ]
          },
          "metadata": {
            "tags": []
          },
          "execution_count": 15
        }
      ]
    },
    {
      "cell_type": "code",
      "metadata": {
        "colab": {
          "base_uri": "https://localhost:8080/"
        },
        "id": "hhvUkwJvGDae",
        "outputId": "9fd03124-348a-4f03-93a5-754636936a3b"
      },
      "source": [
        "# Case 2: Broadcasting\n",
        "a = np.array([1,2,3,4])\n",
        "b = 2\n",
        "a * b"
      ],
      "execution_count": 16,
      "outputs": [
        {
          "output_type": "execute_result",
          "data": {
            "text/plain": [
              "array([2, 4, 6, 8])"
            ]
          },
          "metadata": {
            "tags": []
          },
          "execution_count": 16
        }
      ]
    },
    {
      "cell_type": "markdown",
      "metadata": {
        "id": "t4pX8o-5GSLh"
      },
      "source": [
        "We see that for both cases the output is the same but the second case uses broadcasting. Numpy is smart enough to use the original scalar value without creating any copies making broadcasting operations more efficient as possible."
      ]
    },
    {
      "cell_type": "markdown",
      "metadata": {
        "id": "Qrz8RJ4cJHw-"
      },
      "source": [
        "Let's run some exemples"
      ]
    },
    {
      "cell_type": "code",
      "metadata": {
        "colab": {
          "base_uri": "https://localhost:8080/"
        },
        "id": "Sw_3112zO3jc",
        "outputId": "90115cac-8aaf-4cb6-d9e2-a91189031862"
      },
      "source": [
        "# Example 1: 'a' is m-dimensional array (m,n) and 'b' is one-dimensional array (1,m)\n",
        "a = np.random.rand(2,3)\n",
        "b = np.array([[1,2,3]])\n",
        "c = a + b\n",
        "print('a + b:\\n', c)\n",
        "print('\\nShape of a:', a.shape)\n",
        "print('Shape of b:', b.shape)\n",
        "print('Shape of a + b: ', c.shape)"
      ],
      "execution_count": 26,
      "outputs": [
        {
          "output_type": "stream",
          "text": [
            "a + b:\n",
            " [[1.10096565 2.54791469 3.85210624]\n",
            " [1.69339873 2.60418549 3.89751136]]\n",
            "\n",
            "Shape of a: (2, 3)\n",
            "Shape of b: (1, 3)\n",
            "Shape of a + b:  (2, 3)\n"
          ],
          "name": "stdout"
        }
      ]
    },
    {
      "cell_type": "code",
      "metadata": {
        "colab": {
          "base_uri": "https://localhost:8080/"
        },
        "id": "VrrcRfruROdK",
        "outputId": "7f65a9f1-a083-46a3-84ca-24e9ae6a0c57"
      },
      "source": [
        "# Example 2: 'a' is m-dimensional array (m,n) and 'b' is m-dimensional array (m,1)\n",
        "a = np.random.rand(2,3)x\n",
        "b = np.array([[1,2,]]).T\n",
        "c = a + b\n",
        "print('a + b:\\n', c)\n",
        "print('\\nShape of a:', a.shape)\n",
        "print('Shape of b:', b.shape)\n",
        "print('Shape of a + b: ', c.shape)"
      ],
      "execution_count": 27,
      "outputs": [
        {
          "output_type": "stream",
          "text": [
            "a + b:\n",
            " [[1.9606779  1.68883568 1.95719885]\n",
            " [2.21456754 2.51867947 2.62428633]]\n",
            "\n",
            "Shape of a: (2, 3)\n",
            "Shape of b: (2, 1)\n",
            "Shape of a + b:  (2, 3)\n"
          ],
          "name": "stdout"
        }
      ]
    },
    {
      "cell_type": "code",
      "metadata": {
        "colab": {
          "base_uri": "https://localhost:8080/"
        },
        "id": "Nmf8s64_SJD3",
        "outputId": "89d28253-4d35-4d51-aa5e-f84b5ceeb688"
      },
      "source": [
        "# Example 3: 'a' is m-dimensional array (m,n) and 'b' is a scalar number\n",
        "a = np.random.rand(1,4)\n",
        "b = 2\n",
        "c = a + b\n",
        "print('a + b:\\n', c)\n",
        "print('\\nShape of a:', a.shape)\n",
        "print('Shape of a + b: ', c.shape)"
      ],
      "execution_count": 29,
      "outputs": [
        {
          "output_type": "stream",
          "text": [
            "a + b:\n",
            " [[2.52438315 2.26038949 2.08707457 2.38498733]]\n",
            "\n",
            "Shape of a: (1, 4)\n",
            "Shape of a + b:  (1, 4)\n"
          ],
          "name": "stdout"
        }
      ]
    },
    {
      "cell_type": "code",
      "metadata": {
        "colab": {
          "base_uri": "https://localhost:8080/"
        },
        "id": "r1FVZyQZSvu5",
        "outputId": "38c9fdb8-9320-47df-dfb2-e1e07e4aa08b"
      },
      "source": [
        "# Example 4: 'a' is one-dimensional array (1,n) 'b' is a scalar number\n",
        "a = np.random.rand(1,4)\n",
        "b = 2\n",
        "c = a + b\n",
        "print('a + b:\\n', c)\n",
        "print('\\nShape of a:', a.shape)\n",
        "print('Shape of a + b: ', c.shape)\n"
      ],
      "execution_count": 30,
      "outputs": [
        {
          "output_type": "stream",
          "text": [
            "a + b:\n",
            " [[2.8572755  2.81875771 2.98192826 2.04959665]]\n",
            "\n",
            "Shape of a: (1, 4)\n",
            "Shape of a + b:  (1, 4)\n"
          ],
          "name": "stdout"
        }
      ]
    },
    {
      "cell_type": "markdown",
      "metadata": {
        "id": "0XydkJwcTnfL"
      },
      "source": [
        "**References:**\n",
        "\n",
        "[broadcasting in python - Andrew NG](https://www.coursera.org/learn/neural-networks-deep-learning/lecture/uBuTv/broadcasting-in-python)\n",
        "\n",
        "[Python Data Science Handbook](https://jakevdp.github.io/PythonDataScienceHandbook/02.05-computation-on-arrays-broadcasting.html)\n",
        "\n",
        "[broadcasting in python - Pooja Mahajan](https://poojamahajan5131.medium.com/broadcasting-in-python-b98ea517c51d)"
      ]
    }
  ]
}